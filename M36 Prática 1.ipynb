{
  "nbformat": 4,
  "nbformat_minor": 0,
  "metadata": {
    "colab": {
      "provenance": []
    },
    "kernelspec": {
      "name": "python3",
      "display_name": "Python 3"
    },
    "language_info": {
      "name": "python"
    }
  },
  "cells": [
    {
      "cell_type": "code",
      "execution_count": 1,
      "metadata": {
        "id": "w6mMhmyhb8a1"
      },
      "outputs": [],
      "source": [
        "import pandas as pd\n",
        "import matplotlib.pyplot as plt\n",
        "import seaborn as sns\n",
        "import numpy as np"
      ]
    },
    {
      "cell_type": "code",
      "source": [
        "# Carregar os dados\n",
        "df = pd.read_pickle(\"/content/base_nfp.pkl\")"
      ],
      "metadata": {
        "id": "FbSo9PylcgUB"
      },
      "execution_count": 4,
      "outputs": []
    },
    {
      "cell_type": "code",
      "source": [
        "df.head()"
      ],
      "metadata": {
        "colab": {
          "base_uri": "https://localhost:8080/",
          "height": 310
        },
        "id": "kSXNumr1c01w",
        "outputId": "087a0af6-a31b-4ede-ee13-21e30c41776e"
      },
      "execution_count": 5,
      "outputs": [
        {
          "output_type": "execute_result",
          "data": {
            "text/plain": [
              "           CNPJ emit.                                           Emitente  \\\n",
              "0  03.476.811/0741-98                      DIA BRASIL SOCIEDADE LIMITADA   \n",
              "1  43.101.310/0001-05                         AUTO POSTO ZANWAL LTDA EPP   \n",
              "2  23.750.257/0001-66  OFICINA DO TRIGO PASTIFICIO PANIFICADORA BAR E RE   \n",
              "3  23.750.257/0001-66  OFICINA DO TRIGO PASTIFICIO PANIFICADORA BAR E RE   \n",
              "4  23.750.257/0001-66  OFICINA DO TRIGO PASTIFICIO PANIFICADORA BAR E RE   \n",
              "\n",
              "    No. Data Emissão  Valor NF Data Registro  Créditos Situação do Crédito  \\\n",
              "0   537   2017-06-30     24.68    2017-06-30      0.00            Liberado   \n",
              "1  2894   2017-06-30     50.00    2017-06-30      0.00            Liberado   \n",
              "2   699   2017-06-30     27.00    2017-06-30      0.44            Liberado   \n",
              "3   698   2017-06-30    111.50    2017-06-30      1.81            Liberado   \n",
              "4   694   2017-06-30    125.00    2017-06-30      2.03            Liberado   \n",
              "\n",
              "    Ano  Semestre   Retorno  flag_credito     categoria  \n",
              "0  2017         1  0.000000             0       Mercado  \n",
              "1  2017         1  0.000000             0    Auto posto  \n",
              "2  2017         1  0.016296             1  Restaurantes  \n",
              "3  2017         1  0.016233             1  Restaurantes  \n",
              "4  2017         1  0.016240             1  Restaurantes  "
            ],
            "text/html": [
              "\n",
              "  <div id=\"df-decce88c-946b-486c-90ec-9df1be45341d\" class=\"colab-df-container\">\n",
              "    <div>\n",
              "<style scoped>\n",
              "    .dataframe tbody tr th:only-of-type {\n",
              "        vertical-align: middle;\n",
              "    }\n",
              "\n",
              "    .dataframe tbody tr th {\n",
              "        vertical-align: top;\n",
              "    }\n",
              "\n",
              "    .dataframe thead th {\n",
              "        text-align: right;\n",
              "    }\n",
              "</style>\n",
              "<table border=\"1\" class=\"dataframe\">\n",
              "  <thead>\n",
              "    <tr style=\"text-align: right;\">\n",
              "      <th></th>\n",
              "      <th>CNPJ emit.</th>\n",
              "      <th>Emitente</th>\n",
              "      <th>No.</th>\n",
              "      <th>Data Emissão</th>\n",
              "      <th>Valor NF</th>\n",
              "      <th>Data Registro</th>\n",
              "      <th>Créditos</th>\n",
              "      <th>Situação do Crédito</th>\n",
              "      <th>Ano</th>\n",
              "      <th>Semestre</th>\n",
              "      <th>Retorno</th>\n",
              "      <th>flag_credito</th>\n",
              "      <th>categoria</th>\n",
              "    </tr>\n",
              "  </thead>\n",
              "  <tbody>\n",
              "    <tr>\n",
              "      <th>0</th>\n",
              "      <td>03.476.811/0741-98</td>\n",
              "      <td>DIA BRASIL SOCIEDADE LIMITADA</td>\n",
              "      <td>537</td>\n",
              "      <td>2017-06-30</td>\n",
              "      <td>24.68</td>\n",
              "      <td>2017-06-30</td>\n",
              "      <td>0.00</td>\n",
              "      <td>Liberado</td>\n",
              "      <td>2017</td>\n",
              "      <td>1</td>\n",
              "      <td>0.000000</td>\n",
              "      <td>0</td>\n",
              "      <td>Mercado</td>\n",
              "    </tr>\n",
              "    <tr>\n",
              "      <th>1</th>\n",
              "      <td>43.101.310/0001-05</td>\n",
              "      <td>AUTO POSTO ZANWAL LTDA EPP</td>\n",
              "      <td>2894</td>\n",
              "      <td>2017-06-30</td>\n",
              "      <td>50.00</td>\n",
              "      <td>2017-06-30</td>\n",
              "      <td>0.00</td>\n",
              "      <td>Liberado</td>\n",
              "      <td>2017</td>\n",
              "      <td>1</td>\n",
              "      <td>0.000000</td>\n",
              "      <td>0</td>\n",
              "      <td>Auto posto</td>\n",
              "    </tr>\n",
              "    <tr>\n",
              "      <th>2</th>\n",
              "      <td>23.750.257/0001-66</td>\n",
              "      <td>OFICINA DO TRIGO PASTIFICIO PANIFICADORA BAR E RE</td>\n",
              "      <td>699</td>\n",
              "      <td>2017-06-30</td>\n",
              "      <td>27.00</td>\n",
              "      <td>2017-06-30</td>\n",
              "      <td>0.44</td>\n",
              "      <td>Liberado</td>\n",
              "      <td>2017</td>\n",
              "      <td>1</td>\n",
              "      <td>0.016296</td>\n",
              "      <td>1</td>\n",
              "      <td>Restaurantes</td>\n",
              "    </tr>\n",
              "    <tr>\n",
              "      <th>3</th>\n",
              "      <td>23.750.257/0001-66</td>\n",
              "      <td>OFICINA DO TRIGO PASTIFICIO PANIFICADORA BAR E RE</td>\n",
              "      <td>698</td>\n",
              "      <td>2017-06-30</td>\n",
              "      <td>111.50</td>\n",
              "      <td>2017-06-30</td>\n",
              "      <td>1.81</td>\n",
              "      <td>Liberado</td>\n",
              "      <td>2017</td>\n",
              "      <td>1</td>\n",
              "      <td>0.016233</td>\n",
              "      <td>1</td>\n",
              "      <td>Restaurantes</td>\n",
              "    </tr>\n",
              "    <tr>\n",
              "      <th>4</th>\n",
              "      <td>23.750.257/0001-66</td>\n",
              "      <td>OFICINA DO TRIGO PASTIFICIO PANIFICADORA BAR E RE</td>\n",
              "      <td>694</td>\n",
              "      <td>2017-06-30</td>\n",
              "      <td>125.00</td>\n",
              "      <td>2017-06-30</td>\n",
              "      <td>2.03</td>\n",
              "      <td>Liberado</td>\n",
              "      <td>2017</td>\n",
              "      <td>1</td>\n",
              "      <td>0.016240</td>\n",
              "      <td>1</td>\n",
              "      <td>Restaurantes</td>\n",
              "    </tr>\n",
              "  </tbody>\n",
              "</table>\n",
              "</div>\n",
              "    <div class=\"colab-df-buttons\">\n",
              "\n",
              "  <div class=\"colab-df-container\">\n",
              "    <button class=\"colab-df-convert\" onclick=\"convertToInteractive('df-decce88c-946b-486c-90ec-9df1be45341d')\"\n",
              "            title=\"Convert this dataframe to an interactive table.\"\n",
              "            style=\"display:none;\">\n",
              "\n",
              "  <svg xmlns=\"http://www.w3.org/2000/svg\" height=\"24px\" viewBox=\"0 -960 960 960\">\n",
              "    <path d=\"M120-120v-720h720v720H120Zm60-500h600v-160H180v160Zm220 220h160v-160H400v160Zm0 220h160v-160H400v160ZM180-400h160v-160H180v160Zm440 0h160v-160H620v160ZM180-180h160v-160H180v160Zm440 0h160v-160H620v160Z\"/>\n",
              "  </svg>\n",
              "    </button>\n",
              "\n",
              "  <style>\n",
              "    .colab-df-container {\n",
              "      display:flex;\n",
              "      gap: 12px;\n",
              "    }\n",
              "\n",
              "    .colab-df-convert {\n",
              "      background-color: #E8F0FE;\n",
              "      border: none;\n",
              "      border-radius: 50%;\n",
              "      cursor: pointer;\n",
              "      display: none;\n",
              "      fill: #1967D2;\n",
              "      height: 32px;\n",
              "      padding: 0 0 0 0;\n",
              "      width: 32px;\n",
              "    }\n",
              "\n",
              "    .colab-df-convert:hover {\n",
              "      background-color: #E2EBFA;\n",
              "      box-shadow: 0px 1px 2px rgba(60, 64, 67, 0.3), 0px 1px 3px 1px rgba(60, 64, 67, 0.15);\n",
              "      fill: #174EA6;\n",
              "    }\n",
              "\n",
              "    .colab-df-buttons div {\n",
              "      margin-bottom: 4px;\n",
              "    }\n",
              "\n",
              "    [theme=dark] .colab-df-convert {\n",
              "      background-color: #3B4455;\n",
              "      fill: #D2E3FC;\n",
              "    }\n",
              "\n",
              "    [theme=dark] .colab-df-convert:hover {\n",
              "      background-color: #434B5C;\n",
              "      box-shadow: 0px 1px 3px 1px rgba(0, 0, 0, 0.15);\n",
              "      filter: drop-shadow(0px 1px 2px rgba(0, 0, 0, 0.3));\n",
              "      fill: #FFFFFF;\n",
              "    }\n",
              "  </style>\n",
              "\n",
              "    <script>\n",
              "      const buttonEl =\n",
              "        document.querySelector('#df-decce88c-946b-486c-90ec-9df1be45341d button.colab-df-convert');\n",
              "      buttonEl.style.display =\n",
              "        google.colab.kernel.accessAllowed ? 'block' : 'none';\n",
              "\n",
              "      async function convertToInteractive(key) {\n",
              "        const element = document.querySelector('#df-decce88c-946b-486c-90ec-9df1be45341d');\n",
              "        const dataTable =\n",
              "          await google.colab.kernel.invokeFunction('convertToInteractive',\n",
              "                                                    [key], {});\n",
              "        if (!dataTable) return;\n",
              "\n",
              "        const docLinkHtml = 'Like what you see? Visit the ' +\n",
              "          '<a target=\"_blank\" href=https://colab.research.google.com/notebooks/data_table.ipynb>data table notebook</a>'\n",
              "          + ' to learn more about interactive tables.';\n",
              "        element.innerHTML = '';\n",
              "        dataTable['output_type'] = 'display_data';\n",
              "        await google.colab.output.renderOutput(dataTable, element);\n",
              "        const docLink = document.createElement('div');\n",
              "        docLink.innerHTML = docLinkHtml;\n",
              "        element.appendChild(docLink);\n",
              "      }\n",
              "    </script>\n",
              "  </div>\n",
              "\n",
              "\n",
              "<div id=\"df-c276de98-4b40-4dc1-a981-64f88214b14d\">\n",
              "  <button class=\"colab-df-quickchart\" onclick=\"quickchart('df-c276de98-4b40-4dc1-a981-64f88214b14d')\"\n",
              "            title=\"Suggest charts\"\n",
              "            style=\"display:none;\">\n",
              "\n",
              "<svg xmlns=\"http://www.w3.org/2000/svg\" height=\"24px\"viewBox=\"0 0 24 24\"\n",
              "     width=\"24px\">\n",
              "    <g>\n",
              "        <path d=\"M19 3H5c-1.1 0-2 .9-2 2v14c0 1.1.9 2 2 2h14c1.1 0 2-.9 2-2V5c0-1.1-.9-2-2-2zM9 17H7v-7h2v7zm4 0h-2V7h2v10zm4 0h-2v-4h2v4z\"/>\n",
              "    </g>\n",
              "</svg>\n",
              "  </button>\n",
              "\n",
              "<style>\n",
              "  .colab-df-quickchart {\n",
              "      --bg-color: #E8F0FE;\n",
              "      --fill-color: #1967D2;\n",
              "      --hover-bg-color: #E2EBFA;\n",
              "      --hover-fill-color: #174EA6;\n",
              "      --disabled-fill-color: #AAA;\n",
              "      --disabled-bg-color: #DDD;\n",
              "  }\n",
              "\n",
              "  [theme=dark] .colab-df-quickchart {\n",
              "      --bg-color: #3B4455;\n",
              "      --fill-color: #D2E3FC;\n",
              "      --hover-bg-color: #434B5C;\n",
              "      --hover-fill-color: #FFFFFF;\n",
              "      --disabled-bg-color: #3B4455;\n",
              "      --disabled-fill-color: #666;\n",
              "  }\n",
              "\n",
              "  .colab-df-quickchart {\n",
              "    background-color: var(--bg-color);\n",
              "    border: none;\n",
              "    border-radius: 50%;\n",
              "    cursor: pointer;\n",
              "    display: none;\n",
              "    fill: var(--fill-color);\n",
              "    height: 32px;\n",
              "    padding: 0;\n",
              "    width: 32px;\n",
              "  }\n",
              "\n",
              "  .colab-df-quickchart:hover {\n",
              "    background-color: var(--hover-bg-color);\n",
              "    box-shadow: 0 1px 2px rgba(60, 64, 67, 0.3), 0 1px 3px 1px rgba(60, 64, 67, 0.15);\n",
              "    fill: var(--button-hover-fill-color);\n",
              "  }\n",
              "\n",
              "  .colab-df-quickchart-complete:disabled,\n",
              "  .colab-df-quickchart-complete:disabled:hover {\n",
              "    background-color: var(--disabled-bg-color);\n",
              "    fill: var(--disabled-fill-color);\n",
              "    box-shadow: none;\n",
              "  }\n",
              "\n",
              "  .colab-df-spinner {\n",
              "    border: 2px solid var(--fill-color);\n",
              "    border-color: transparent;\n",
              "    border-bottom-color: var(--fill-color);\n",
              "    animation:\n",
              "      spin 1s steps(1) infinite;\n",
              "  }\n",
              "\n",
              "  @keyframes spin {\n",
              "    0% {\n",
              "      border-color: transparent;\n",
              "      border-bottom-color: var(--fill-color);\n",
              "      border-left-color: var(--fill-color);\n",
              "    }\n",
              "    20% {\n",
              "      border-color: transparent;\n",
              "      border-left-color: var(--fill-color);\n",
              "      border-top-color: var(--fill-color);\n",
              "    }\n",
              "    30% {\n",
              "      border-color: transparent;\n",
              "      border-left-color: var(--fill-color);\n",
              "      border-top-color: var(--fill-color);\n",
              "      border-right-color: var(--fill-color);\n",
              "    }\n",
              "    40% {\n",
              "      border-color: transparent;\n",
              "      border-right-color: var(--fill-color);\n",
              "      border-top-color: var(--fill-color);\n",
              "    }\n",
              "    60% {\n",
              "      border-color: transparent;\n",
              "      border-right-color: var(--fill-color);\n",
              "    }\n",
              "    80% {\n",
              "      border-color: transparent;\n",
              "      border-right-color: var(--fill-color);\n",
              "      border-bottom-color: var(--fill-color);\n",
              "    }\n",
              "    90% {\n",
              "      border-color: transparent;\n",
              "      border-bottom-color: var(--fill-color);\n",
              "    }\n",
              "  }\n",
              "</style>\n",
              "\n",
              "  <script>\n",
              "    async function quickchart(key) {\n",
              "      const quickchartButtonEl =\n",
              "        document.querySelector('#' + key + ' button');\n",
              "      quickchartButtonEl.disabled = true;  // To prevent multiple clicks.\n",
              "      quickchartButtonEl.classList.add('colab-df-spinner');\n",
              "      try {\n",
              "        const charts = await google.colab.kernel.invokeFunction(\n",
              "            'suggestCharts', [key], {});\n",
              "      } catch (error) {\n",
              "        console.error('Error during call to suggestCharts:', error);\n",
              "      }\n",
              "      quickchartButtonEl.classList.remove('colab-df-spinner');\n",
              "      quickchartButtonEl.classList.add('colab-df-quickchart-complete');\n",
              "    }\n",
              "    (() => {\n",
              "      let quickchartButtonEl =\n",
              "        document.querySelector('#df-c276de98-4b40-4dc1-a981-64f88214b14d button');\n",
              "      quickchartButtonEl.style.display =\n",
              "        google.colab.kernel.accessAllowed ? 'block' : 'none';\n",
              "    })();\n",
              "  </script>\n",
              "</div>\n",
              "\n",
              "    </div>\n",
              "  </div>\n"
            ],
            "application/vnd.google.colaboratory.intrinsic+json": {
              "type": "dataframe",
              "variable_name": "df"
            }
          },
          "metadata": {},
          "execution_count": 5
        }
      ]
    },
    {
      "cell_type": "code",
      "source": [
        "df.info()"
      ],
      "metadata": {
        "colab": {
          "base_uri": "https://localhost:8080/"
        },
        "id": "1cXnQgYFegYk",
        "outputId": "b8ade310-9017-45c6-9188-500bd720bf1d"
      },
      "execution_count": 6,
      "outputs": [
        {
          "output_type": "stream",
          "name": "stdout",
          "text": [
            "<class 'pandas.core.frame.DataFrame'>\n",
            "RangeIndex: 187646 entries, 0 to 187645\n",
            "Data columns (total 13 columns):\n",
            " #   Column               Non-Null Count   Dtype         \n",
            "---  ------               --------------   -----         \n",
            " 0   CNPJ emit.           187646 non-null  object        \n",
            " 1   Emitente             187646 non-null  object        \n",
            " 2   No.                  187646 non-null  int64         \n",
            " 3   Data Emissão         187646 non-null  datetime64[ns]\n",
            " 4   Valor NF             187646 non-null  float64       \n",
            " 5   Data Registro        187646 non-null  datetime64[ns]\n",
            " 6   Créditos             187646 non-null  float64       \n",
            " 7   Situação do Crédito  187646 non-null  category      \n",
            " 8   Ano                  187646 non-null  int64         \n",
            " 9   Semestre             187646 non-null  int64         \n",
            " 10  Retorno              186666 non-null  float64       \n",
            " 11  flag_credito         187646 non-null  int64         \n",
            " 12  categoria            187646 non-null  object        \n",
            "dtypes: category(1), datetime64[ns](2), float64(3), int64(4), object(3)\n",
            "memory usage: 17.4+ MB\n"
          ]
        }
      ]
    },
    {
      "cell_type": "code",
      "source": [
        "# Filtrar dados a partir de janeiro de 2020\n",
        "df_filtered = df[df['Data Emissão'] >= '2020-01-01']"
      ],
      "metadata": {
        "id": "QGm-cHeCdHas"
      },
      "execution_count": 7,
      "outputs": []
    },
    {
      "cell_type": "code",
      "source": [
        "# Calcular a proporção de notas com retorno > 0 por categoria\n",
        "prop_retorno = df_filtered.groupby('categoria').apply(lambda x: (x['Retorno'] > 0).mean()).reset_index()\n",
        "prop_retorno.columns = ['categoria', 'proporcao_retorno_positivo']\n",
        "prop_retorno = prop_retorno.sort_values('proporcao_retorno_positivo', ascending=False)\n"
      ],
      "metadata": {
        "id": "E_LfzlD6fUN-"
      },
      "execution_count": 8,
      "outputs": []
    },
    {
      "cell_type": "code",
      "source": [
        "# Exibir a tabela\n",
        "print(\"Proporção de notas com retorno > 0 por categoria de estabelecimento:\")\n",
        "print(prop_retorno.to_string(index=False))"
      ],
      "metadata": {
        "colab": {
          "base_uri": "https://localhost:8080/"
        },
        "id": "A9ye9KgNf0SS",
        "outputId": "30ba564f-eb12-4faa-f986-9db6fc7f7c08"
      },
      "execution_count": 9,
      "outputs": [
        {
          "output_type": "stream",
          "name": "stdout",
          "text": [
            "Proporção de notas com retorno > 0 por categoria de estabelecimento:\n",
            "   categoria  proporcao_retorno_positivo\n",
            "Restaurantes                    0.746214\n",
            "   Alimentos                    0.681584\n",
            "     Mercado                    0.478155\n",
            "  Construção                    0.468810\n",
            "não definido                    0.363394\n",
            "    Farmácia                    0.351556\n",
            "  Auto posto                    0.250000\n",
            "   Vestuário                    0.230729\n",
            "      Varejo                    0.138373\n"
          ]
        }
      ]
    },
    {
      "cell_type": "code",
      "source": [
        "# Criar o gráfico\n",
        "plt.figure(figsize=(12, 6))\n",
        "sns.barplot(x='proporcao_retorno_positivo', y='categoria', data=prop_retorno)\n",
        "plt.title('Proporção de Notas com Retorno > 0 por Categoria de Estabelecimento')\n",
        "plt.xlabel('Proporção de Retorno Positivo')\n",
        "plt.ylabel('Categoria de Estabelecimento')\n",
        "plt.tight_layout()\n",
        "plt.show()"
      ],
      "metadata": {
        "colab": {
          "base_uri": "https://localhost:8080/",
          "height": 607
        },
        "id": "cVl9LnL7f74W",
        "outputId": "29afd9b2-0771-4a8d-ddf9-8ea4fa1ff9d5"
      },
      "execution_count": 10,
      "outputs": [
        {
          "output_type": "display_data",
          "data": {
            "text/plain": [
              "<Figure size 1200x600 with 1 Axes>"
            ],
            "image/png": "[encoded data removed]"
          },
          "metadata": {}
        }
      ]
    },
    {
      "cell_type": "code",
      "source": [
        "# Função para calcular WOE\n",
        "def calculate_woe(df, feature, target):\n",
        "    df_woe = pd.DataFrame({'feature_value': df[feature].value_counts().index,\n",
        "                           'good': df[df[target] > 0][feature].value_counts(),\n",
        "                           'bad': df[df[target] <= 0][feature].value_counts()})\n",
        "    df_woe['good'] = df_woe['good'].fillna(0)\n",
        "    df_woe['bad'] = df_woe['bad'].fillna(0)\n",
        "    df_woe['good_rate'] = df_woe['good'] / df_woe['good'].sum()\n",
        "    df_woe['bad_rate'] = df_woe['bad'] / df_woe['bad'].sum()\n",
        "    df_woe['woe'] = np.log(df_woe['good_rate'] / df_woe['bad_rate'])\n",
        "    df_woe['iv'] = (df_woe['good_rate'] - df_woe['bad_rate']) * df_woe['woe']\n",
        "    return df_woe.sort_values('woe', ascending=False)\n"
      ],
      "metadata": {
        "id": "VQfB7eKXgK-T"
      },
      "execution_count": 11,
      "outputs": []
    },
    {
      "cell_type": "code",
      "source": [
        "# Calcular WOE\n",
        "woe_df = calculate_woe(df_filtered, 'categoria', 'Retorno')"
      ],
      "metadata": {
        "id": "1bIDdAPpgQlJ"
      },
      "execution_count": 12,
      "outputs": []
    },
    {
      "cell_type": "code",
      "source": [
        "# Exibir a tabela de WOE\n",
        "print(\"WOE por categoria de estabelecimento:\")\n",
        "print(woe_df[['feature_value', 'woe', 'iv']].to_string(index=False))"
      ],
      "metadata": {
        "colab": {
          "base_uri": "https://localhost:8080/"
        },
        "id": "fJF8s8digkuA",
        "outputId": "0d8c5294-2bd6-4fb0-a76b-699c752accd8"
      },
      "execution_count": 13,
      "outputs": [
        {
          "output_type": "stream",
          "name": "stdout",
          "text": [
            "WOE por categoria de estabelecimento:\n",
            "feature_value       woe       iv\n",
            "    Alimentos  1.344354 0.043304\n",
            "      Mercado  1.026895 0.060796\n",
            "       Varejo  0.178746 0.010331\n",
            "   Construção  0.141265 0.003752\n",
            "   Auto posto -0.289780 0.017459\n",
            "     Farmácia -0.346375 0.013762\n",
            " não definido -0.832779 0.003916\n",
            "    Vestuário -0.934974 0.017172\n",
            " Restaurantes -1.336733 0.070473\n"
          ]
        }
      ]
    },
    {
      "cell_type": "code",
      "source": [
        "# Calcular Information Value total\n",
        "total_iv = woe_df['iv'].sum()\n",
        "print(f\"\\nInformation Value total: {total_iv:.4f}\")"
      ],
      "metadata": {
        "colab": {
          "base_uri": "https://localhost:8080/"
        },
        "id": "wkQSB7jQgnVC",
        "outputId": "6117c3d2-2c12-49d2-899e-67097995b770"
      },
      "execution_count": 14,
      "outputs": [
        {
          "output_type": "stream",
          "name": "stdout",
          "text": [
            "\n",
            "Information Value total: 0.2410\n"
          ]
        }
      ]
    },
    {
      "cell_type": "code",
      "source": [
        "# Criar o gráfico de WOE\n",
        "plt.figure(figsize=(12, 8))\n",
        "sns.barplot(x='woe', y='feature_value', data=woe_df)\n",
        "plt.title('Weight of Evidence (WOE) por Categoria de Estabelecimento')\n",
        "plt.xlabel('WOE')\n",
        "plt.ylabel('Categoria de Estabelecimento')\n",
        "plt.axvline(x=0, color='r', linestyle='--')\n",
        "plt.tight_layout()\n",
        "plt.show()"
      ],
      "metadata": {
        "colab": {
          "base_uri": "https://localhost:8080/",
          "height": 807
        },
        "id": "8YjusYu1gqCc",
        "outputId": "ed94b7c2-77c8-4a4f-9008-36e818889632"
      },
      "execution_count": 15,
      "outputs": [
        {
          "output_type": "display_data",
          "data": {
            "text/plain": [
              "<Figure size 1200x800 with 1 Axes>"
            ],
            "image/png": "[encoded data removed]"
          },
          "metadata": {}
        }
      ]
    },
    {
      "cell_type": "code",
      "source": [
        "# Função para calcular WOE e IV\n",
        "def calculate_woe_iv(df, feature, target):\n",
        "    df_woe = pd.DataFrame({'feature_value': df[feature].value_counts().index,\n",
        "                           'good': df[df[target] > 0][feature].value_counts(),\n",
        "                           'bad': df[df[target] <= 0][feature].value_counts()})\n",
        "    df_woe['good'] = df_woe['good'].fillna(0)\n",
        "    df_woe['bad'] = df_woe['bad'].fillna(0)\n",
        "    df_woe['good_rate'] = df_woe['good'] / df_woe['good'].sum()\n",
        "    df_woe['bad_rate'] = df_woe['bad'] / df_woe['bad'].sum()\n",
        "    df_woe['woe'] = np.log(df_woe['good_rate'] / df_woe['bad_rate'])\n",
        "    df_woe['iv'] = (df_woe['good_rate'] - df_woe['bad_rate']) * df_woe['woe']\n",
        "    total_iv = df_woe['iv'].sum()\n",
        "    return df_woe, total_iv"
      ],
      "metadata": {
        "id": "g4_Z8_sBgr4u"
      },
      "execution_count": 16,
      "outputs": []
    },
    {
      "cell_type": "code",
      "source": [
        "# Calcular WOE e IV\n",
        "woe_df, total_iv = calculate_woe_iv(df_filtered, 'categoria', 'Retorno')"
      ],
      "metadata": {
        "id": "Rf7KHQQUg3of"
      },
      "execution_count": 17,
      "outputs": []
    },
    {
      "cell_type": "code",
      "source": [
        "# Exibir o IV total\n",
        "print(f\"Information Value (IV) total para 'categoria': {total_iv:.4f}\")"
      ],
      "metadata": {
        "colab": {
          "base_uri": "https://localhost:8080/"
        },
        "id": "EV8atMsbg55g",
        "outputId": "74a6d1e0-3f00-42bd-9700-017b9cb5e335"
      },
      "execution_count": 18,
      "outputs": [
        {
          "output_type": "stream",
          "name": "stdout",
          "text": [
            "Information Value (IV) total para 'categoria': 0.2410\n"
          ]
        }
      ]
    },
    {
      "cell_type": "code",
      "source": [
        "# Exibir o IV por categoria\n",
        "print(\"\\nInformation Value por categoria:\")\n",
        "print(woe_df[['feature_value', 'iv']].sort_values('iv', ascending=False).to_string(index=False))"
      ],
      "metadata": {
        "colab": {
          "base_uri": "https://localhost:8080/"
        },
        "id": "-IlxrL0ig8YH",
        "outputId": "da26d6eb-6564-41ff-c37d-f8eee8596305"
      },
      "execution_count": 19,
      "outputs": [
        {
          "output_type": "stream",
          "name": "stdout",
          "text": [
            "\n",
            "Information Value por categoria:\n",
            "feature_value       iv\n",
            " Restaurantes 0.070473\n",
            "      Mercado 0.060796\n",
            "    Alimentos 0.043304\n",
            "   Auto posto 0.017459\n",
            "    Vestuário 0.017172\n",
            "     Farmácia 0.013762\n",
            "       Varejo 0.010331\n",
            " não definido 0.003916\n",
            "   Construção 0.003752\n"
          ]
        }
      ]
    },
    {
      "cell_type": "markdown",
      "source": [
        "<font color='blue'>\n",
        "\n",
        "## Conclusões da Análise WOE e IV para 'categoria_estabelecimento'\n",
        "\n",
        "1. **Poder Preditivo Geral:**\n",
        "   - O Information Value (IV) total para 'categoria_estabelecimento' é [inserir valor aqui].\n",
        "   - Este valor indica um [inserir interpretação: fraco/médio/forte] poder preditivo para notas com retorno > 0.\n",
        "\n",
        "2. **Categorias mais Informativas:**\n",
        "   - As categorias com maior WOE positivo são: [listar top 3-5 categorias]\n",
        "   - Estas categorias têm maior probabilidade de gerar notas com retorno positivo.\n",
        "\n",
        "3. **Categorias menos Favoráveis:**\n",
        "   - As categorias com maior WOE negativo são: [listar top 3-5 categorias]\n",
        "   - Estas categorias têm menor probabilidade de gerar notas com retorno positivo.\n",
        "\n",
        "4. **Insights para o Negócio:**\n",
        "   - Focar em estabelecimentos das categorias com alto WOE positivo pode aumentar a chance de retornos positivos.\n",
        "   - Pode ser necessário investigar ou implementar melhorias nas categorias com WOE negativo alto.\n",
        "\n",
        "5. **Considerações Adicionais:**\n",
        "   - [Adicionar quaisquer observações específicas ou anomalias notadas durante a análise]\n",
        "   - Se o IV total for muito alto (> 0.5), considerar a possibilidade de overfitting e validar em um conjunto de dados separado.\n",
        "\n",
        "6. **Próximos Passos:**\n",
        "   - Considerar a inclusão desta variável em modelos preditivos.\n",
        "   - Investigar mais detalhadamente as razões por trás das diferenças entre categorias.\n",
        "   - Monitorar mudanças nestes padrões ao longo do tempo.\n",
        "\n",
        "</font>"
      ],
      "metadata": {
        "id": "crzKdk3rhWgJ"
      }
    }
  ]
}