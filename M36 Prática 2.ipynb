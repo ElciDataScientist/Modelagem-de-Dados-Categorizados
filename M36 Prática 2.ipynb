{
  "nbformat": 4,
  "nbformat_minor": 0,
  "metadata": {
    "colab": {
      "provenance": []
    },
    "kernelspec": {
      "name": "python3",
      "display_name": "Python 3"
    },
    "language_info": {
      "name": "python"
    }
  },
  "cells": [
    {
      "cell_type": "code",
      "execution_count": 1,
      "metadata": {
        "id": "QkabXsGyhg6s"
      },
      "outputs": [],
      "source": [
        "import pandas as pd\n",
        "import numpy as np\n",
        "import matplotlib.pyplot as plt\n",
        "import seaborn as sns\n",
        "from scipy import stats\n",
        "from sklearn.preprocessing import KBinsDiscretizer"
      ]
    },
    {
      "cell_type": "code",
      "source": [
        "# Carregar os dados\n",
        "df = pd.read_pickle(\"/content/base_nfp.pkl\")"
      ],
      "metadata": {
        "id": "h312_J4oiOEk"
      },
      "execution_count": 2,
      "outputs": []
    },
    {
      "cell_type": "code",
      "source": [
        "df.head()"
      ],
      "metadata": {
        "colab": {
          "base_uri": "https://localhost:8080/",
          "height": 310
        },
        "id": "Xc6_qzy2ikqr",
        "outputId": "e8fc0005-97df-4cb1-d114-9b9bea1302f7"
      },
      "execution_count": 3,
      "outputs": [
        {
          "output_type": "execute_result",
          "data": {
            "text/plain": [
              "           CNPJ emit.                                           Emitente  \\\n",
              "0  03.476.811/0741-98                      DIA BRASIL SOCIEDADE LIMITADA   \n",
              "1  43.101.310/0001-05                         AUTO POSTO ZANWAL LTDA EPP   \n",
              "2  23.750.257/0001-66  OFICINA DO TRIGO PASTIFICIO PANIFICADORA BAR E RE   \n",
              "3  23.750.257/0001-66  OFICINA DO TRIGO PASTIFICIO PANIFICADORA BAR E RE   \n",
              "4  23.750.257/0001-66  OFICINA DO TRIGO PASTIFICIO PANIFICADORA BAR E RE   \n",
              "\n",
              "    No. Data Emissão  Valor NF Data Registro  Créditos Situação do Crédito  \\\n",
              "0   537   2017-06-30     24.68    2017-06-30      0.00            Liberado   \n",
              "1  2894   2017-06-30     50.00    2017-06-30      0.00            Liberado   \n",
              "2   699   2017-06-30     27.00    2017-06-30      0.44            Liberado   \n",
              "3   698   2017-06-30    111.50    2017-06-30      1.81            Liberado   \n",
              "4   694   2017-06-30    125.00    2017-06-30      2.03            Liberado   \n",
              "\n",
              "    Ano  Semestre   Retorno  flag_credito     categoria  \n",
              "0  2017         1  0.000000             0       Mercado  \n",
              "1  2017         1  0.000000             0    Auto posto  \n",
              "2  2017         1  0.016296             1  Restaurantes  \n",
              "3  2017         1  0.016233             1  Restaurantes  \n",
              "4  2017         1  0.016240             1  Restaurantes  "
            ],
            "text/html": [
              "\n",
              "  <div id=\"df-409a64f0-be5d-4801-8824-e82bf3f87bcf\" class=\"colab-df-container\">\n",
              "    <div>\n",
              "<style scoped>\n",
              "    .dataframe tbody tr th:only-of-type {\n",
              "        vertical-align: middle;\n",
              "    }\n",
              "\n",
              "    .dataframe tbody tr th {\n",
              "        vertical-align: top;\n",
              "    }\n",
              "\n",
              "    .dataframe thead th {\n",
              "        text-align: right;\n",
              "    }\n",
              "</style>\n",
              "<table border=\"1\" class=\"dataframe\">\n",
              "  <thead>\n",
              "    <tr style=\"text-align: right;\">\n",
              "      <th></th>\n",
              "      <th>CNPJ emit.</th>\n",
              "      <th>Emitente</th>\n",
              "      <th>No.</th>\n",
              "      <th>Data Emissão</th>\n",
              "      <th>Valor NF</th>\n",
              "      <th>Data Registro</th>\n",
              "      <th>Créditos</th>\n",
              "      <th>Situação do Crédito</th>\n",
              "      <th>Ano</th>\n",
              "      <th>Semestre</th>\n",
              "      <th>Retorno</th>\n",
              "      <th>flag_credito</th>\n",
              "      <th>categoria</th>\n",
              "    </tr>\n",
              "  </thead>\n",
              "  <tbody>\n",
              "    <tr>\n",
              "      <th>0</th>\n",
              "      <td>03.476.811/0741-98</td>\n",
              "      <td>DIA BRASIL SOCIEDADE LIMITADA</td>\n",
              "      <td>537</td>\n",
              "      <td>2017-06-30</td>\n",
              "      <td>24.68</td>\n",
              "      <td>2017-06-30</td>\n",
              "      <td>0.00</td>\n",
              "      <td>Liberado</td>\n",
              "      <td>2017</td>\n",
              "      <td>1</td>\n",
              "      <td>0.000000</td>\n",
              "      <td>0</td>\n",
              "      <td>Mercado</td>\n",
              "    </tr>\n",
              "    <tr>\n",
              "      <th>1</th>\n",
              "      <td>43.101.310/0001-05</td>\n",
              "      <td>AUTO POSTO ZANWAL LTDA EPP</td>\n",
              "      <td>2894</td>\n",
              "      <td>2017-06-30</td>\n",
              "      <td>50.00</td>\n",
              "      <td>2017-06-30</td>\n",
              "      <td>0.00</td>\n",
              "      <td>Liberado</td>\n",
              "      <td>2017</td>\n",
              "      <td>1</td>\n",
              "      <td>0.000000</td>\n",
              "      <td>0</td>\n",
              "      <td>Auto posto</td>\n",
              "    </tr>\n",
              "    <tr>\n",
              "      <th>2</th>\n",
              "      <td>23.750.257/0001-66</td>\n",
              "      <td>OFICINA DO TRIGO PASTIFICIO PANIFICADORA BAR E RE</td>\n",
              "      <td>699</td>\n",
              "      <td>2017-06-30</td>\n",
              "      <td>27.00</td>\n",
              "      <td>2017-06-30</td>\n",
              "      <td>0.44</td>\n",
              "      <td>Liberado</td>\n",
              "      <td>2017</td>\n",
              "      <td>1</td>\n",
              "      <td>0.016296</td>\n",
              "      <td>1</td>\n",
              "      <td>Restaurantes</td>\n",
              "    </tr>\n",
              "    <tr>\n",
              "      <th>3</th>\n",
              "      <td>23.750.257/0001-66</td>\n",
              "      <td>OFICINA DO TRIGO PASTIFICIO PANIFICADORA BAR E RE</td>\n",
              "      <td>698</td>\n",
              "      <td>2017-06-30</td>\n",
              "      <td>111.50</td>\n",
              "      <td>2017-06-30</td>\n",
              "      <td>1.81</td>\n",
              "      <td>Liberado</td>\n",
              "      <td>2017</td>\n",
              "      <td>1</td>\n",
              "      <td>0.016233</td>\n",
              "      <td>1</td>\n",
              "      <td>Restaurantes</td>\n",
              "    </tr>\n",
              "    <tr>\n",
              "      <th>4</th>\n",
              "      <td>23.750.257/0001-66</td>\n",
              "      <td>OFICINA DO TRIGO PASTIFICIO PANIFICADORA BAR E RE</td>\n",
              "      <td>694</td>\n",
              "      <td>2017-06-30</td>\n",
              "      <td>125.00</td>\n",
              "      <td>2017-06-30</td>\n",
              "      <td>2.03</td>\n",
              "      <td>Liberado</td>\n",
              "      <td>2017</td>\n",
              "      <td>1</td>\n",
              "      <td>0.016240</td>\n",
              "      <td>1</td>\n",
              "      <td>Restaurantes</td>\n",
              "    </tr>\n",
              "  </tbody>\n",
              "</table>\n",
              "</div>\n",
              "    <div class=\"colab-df-buttons\">\n",
              "\n",
              "  <div class=\"colab-df-container\">\n",
              "    <button class=\"colab-df-convert\" onclick=\"convertToInteractive('df-409a64f0-be5d-4801-8824-e82bf3f87bcf')\"\n",
              "            title=\"Convert this dataframe to an interactive table.\"\n",
              "            style=\"display:none;\">\n",
              "\n",
              "  <svg xmlns=\"http://www.w3.org/2000/svg\" height=\"24px\" viewBox=\"0 -960 960 960\">\n",
              "    <path d=\"M120-120v-720h720v720H120Zm60-500h600v-160H180v160Zm220 220h160v-160H400v160Zm0 220h160v-160H400v160ZM180-400h160v-160H180v160Zm440 0h160v-160H620v160ZM180-180h160v-160H180v160Zm440 0h160v-160H620v160Z\"/>\n",
              "  </svg>\n",
              "    </button>\n",
              "\n",
              "  <style>\n",
              "    .colab-df-container {\n",
              "      display:flex;\n",
              "      gap: 12px;\n",
              "    }\n",
              "\n",
              "    .colab-df-convert {\n",
              "      background-color: #E8F0FE;\n",
              "      border: none;\n",
              "      border-radius: 50%;\n",
              "      cursor: pointer;\n",
              "      display: none;\n",
              "      fill: #1967D2;\n",
              "      height: 32px;\n",
              "      padding: 0 0 0 0;\n",
              "      width: 32px;\n",
              "    }\n",
              "\n",
              "    .colab-df-convert:hover {\n",
              "      background-color: #E2EBFA;\n",
              "      box-shadow: 0px 1px 2px rgba(60, 64, 67, 0.3), 0px 1px 3px 1px rgba(60, 64, 67, 0.15);\n",
              "      fill: #174EA6;\n",
              "    }\n",
              "\n",
              "    .colab-df-buttons div {\n",
              "      margin-bottom: 4px;\n",
              "    }\n",
              "\n",
              "    [theme=dark] .colab-df-convert {\n",
              "      background-color: #3B4455;\n",
              "      fill: #D2E3FC;\n",
              "    }\n",
              "\n",
              "    [theme=dark] .colab-df-convert:hover {\n",
              "      background-color: #434B5C;\n",
              "      box-shadow: 0px 1px 3px 1px rgba(0, 0, 0, 0.15);\n",
              "      filter: drop-shadow(0px 1px 2px rgba(0, 0, 0, 0.3));\n",
              "      fill: #FFFFFF;\n",
              "    }\n",
              "  </style>\n",
              "\n",
              "    <script>\n",
              "      const buttonEl =\n",
              "        document.querySelector('#df-409a64f0-be5d-4801-8824-e82bf3f87bcf button.colab-df-convert');\n",
              "      buttonEl.style.display =\n",
              "        google.colab.kernel.accessAllowed ? 'block' : 'none';\n",
              "\n",
              "      async function convertToInteractive(key) {\n",
              "        const element = document.querySelector('#df-409a64f0-be5d-4801-8824-e82bf3f87bcf');\n",
              "        const dataTable =\n",
              "          await google.colab.kernel.invokeFunction('convertToInteractive',\n",
              "                                                    [key], {});\n",
              "        if (!dataTable) return;\n",
              "\n",
              "        const docLinkHtml = 'Like what you see? Visit the ' +\n",
              "          '<a target=\"_blank\" href=https://colab.research.google.com/notebooks/data_table.ipynb>data table notebook</a>'\n",
              "          + ' to learn more about interactive tables.';\n",
              "        element.innerHTML = '';\n",
              "        dataTable['output_type'] = 'display_data';\n",
              "        await google.colab.output.renderOutput(dataTable, element);\n",
              "        const docLink = document.createElement('div');\n",
              "        docLink.innerHTML = docLinkHtml;\n",
              "        element.appendChild(docLink);\n",
              "      }\n",
              "    </script>\n",
              "  </div>\n",
              "\n",
              "\n",
              "<div id=\"df-d6b6d251-99eb-42d1-86e4-a08c69d34f64\">\n",
              "  <button class=\"colab-df-quickchart\" onclick=\"quickchart('df-d6b6d251-99eb-42d1-86e4-a08c69d34f64')\"\n",
              "            title=\"Suggest charts\"\n",
              "            style=\"display:none;\">\n",
              "\n",
              "<svg xmlns=\"http://www.w3.org/2000/svg\" height=\"24px\"viewBox=\"0 0 24 24\"\n",
              "     width=\"24px\">\n",
              "    <g>\n",
              "        <path d=\"M19 3H5c-1.1 0-2 .9-2 2v14c0 1.1.9 2 2 2h14c1.1 0 2-.9 2-2V5c0-1.1-.9-2-2-2zM9 17H7v-7h2v7zm4 0h-2V7h2v10zm4 0h-2v-4h2v4z\"/>\n",
              "    </g>\n",
              "</svg>\n",
              "  </button>\n",
              "\n",
              "<style>\n",
              "  .colab-df-quickchart {\n",
              "      --bg-color: #E8F0FE;\n",
              "      --fill-color: #1967D2;\n",
              "      --hover-bg-color: #E2EBFA;\n",
              "      --hover-fill-color: #174EA6;\n",
              "      --disabled-fill-color: #AAA;\n",
              "      --disabled-bg-color: #DDD;\n",
              "  }\n",
              "\n",
              "  [theme=dark] .colab-df-quickchart {\n",
              "      --bg-color: #3B4455;\n",
              "      --fill-color: #D2E3FC;\n",
              "      --hover-bg-color: #434B5C;\n",
              "      --hover-fill-color: #FFFFFF;\n",
              "      --disabled-bg-color: #3B4455;\n",
              "      --disabled-fill-color: #666;\n",
              "  }\n",
              "\n",
              "  .colab-df-quickchart {\n",
              "    background-color: var(--bg-color);\n",
              "    border: none;\n",
              "    border-radius: 50%;\n",
              "    cursor: pointer;\n",
              "    display: none;\n",
              "    fill: var(--fill-color);\n",
              "    height: 32px;\n",
              "    padding: 0;\n",
              "    width: 32px;\n",
              "  }\n",
              "\n",
              "  .colab-df-quickchart:hover {\n",
              "    background-color: var(--hover-bg-color);\n",
              "    box-shadow: 0 1px 2px rgba(60, 64, 67, 0.3), 0 1px 3px 1px rgba(60, 64, 67, 0.15);\n",
              "    fill: var(--button-hover-fill-color);\n",
              "  }\n",
              "\n",
              "  .colab-df-quickchart-complete:disabled,\n",
              "  .colab-df-quickchart-complete:disabled:hover {\n",
              "    background-color: var(--disabled-bg-color);\n",
              "    fill: var(--disabled-fill-color);\n",
              "    box-shadow: none;\n",
              "  }\n",
              "\n",
              "  .colab-df-spinner {\n",
              "    border: 2px solid var(--fill-color);\n",
              "    border-color: transparent;\n",
              "    border-bottom-color: var(--fill-color);\n",
              "    animation:\n",
              "      spin 1s steps(1) infinite;\n",
              "  }\n",
              "\n",
              "  @keyframes spin {\n",
              "    0% {\n",
              "      border-color: transparent;\n",
              "      border-bottom-color: var(--fill-color);\n",
              "      border-left-color: var(--fill-color);\n",
              "    }\n",
              "    20% {\n",
              "      border-color: transparent;\n",
              "      border-left-color: var(--fill-color);\n",
              "      border-top-color: var(--fill-color);\n",
              "    }\n",
              "    30% {\n",
              "      border-color: transparent;\n",
              "      border-left-color: var(--fill-color);\n",
              "      border-top-color: var(--fill-color);\n",
              "      border-right-color: var(--fill-color);\n",
              "    }\n",
              "    40% {\n",
              "      border-color: transparent;\n",
              "      border-right-color: var(--fill-color);\n",
              "      border-top-color: var(--fill-color);\n",
              "    }\n",
              "    60% {\n",
              "      border-color: transparent;\n",
              "      border-right-color: var(--fill-color);\n",
              "    }\n",
              "    80% {\n",
              "      border-color: transparent;\n",
              "      border-right-color: var(--fill-color);\n",
              "      border-bottom-color: var(--fill-color);\n",
              "    }\n",
              "    90% {\n",
              "      border-color: transparent;\n",
              "      border-bottom-color: var(--fill-color);\n",
              "    }\n",
              "  }\n",
              "</style>\n",
              "\n",
              "  <script>\n",
              "    async function quickchart(key) {\n",
              "      const quickchartButtonEl =\n",
              "        document.querySelector('#' + key + ' button');\n",
              "      quickchartButtonEl.disabled = true;  // To prevent multiple clicks.\n",
              "      quickchartButtonEl.classList.add('colab-df-spinner');\n",
              "      try {\n",
              "        const charts = await google.colab.kernel.invokeFunction(\n",
              "            'suggestCharts', [key], {});\n",
              "      } catch (error) {\n",
              "        console.error('Error during call to suggestCharts:', error);\n",
              "      }\n",
              "      quickchartButtonEl.classList.remove('colab-df-spinner');\n",
              "      quickchartButtonEl.classList.add('colab-df-quickchart-complete');\n",
              "    }\n",
              "    (() => {\n",
              "      let quickchartButtonEl =\n",
              "        document.querySelector('#df-d6b6d251-99eb-42d1-86e4-a08c69d34f64 button');\n",
              "      quickchartButtonEl.style.display =\n",
              "        google.colab.kernel.accessAllowed ? 'block' : 'none';\n",
              "    })();\n",
              "  </script>\n",
              "</div>\n",
              "\n",
              "    </div>\n",
              "  </div>\n"
            ],
            "application/vnd.google.colaboratory.intrinsic+json": {
              "type": "dataframe",
              "variable_name": "df"
            }
          },
          "metadata": {},
          "execution_count": 3
        }
      ]
    },
    {
      "cell_type": "code",
      "source": [
        "df.info()"
      ],
      "metadata": {
        "colab": {
          "base_uri": "https://localhost:8080/"
        },
        "id": "x69dcwJJimtU",
        "outputId": "273a09ca-6bcb-4602-8a74-75f27a799277"
      },
      "execution_count": 4,
      "outputs": [
        {
          "output_type": "stream",
          "name": "stdout",
          "text": [
            "<class 'pandas.core.frame.DataFrame'>\n",
            "RangeIndex: 187646 entries, 0 to 187645\n",
            "Data columns (total 13 columns):\n",
            " #   Column               Non-Null Count   Dtype         \n",
            "---  ------               --------------   -----         \n",
            " 0   CNPJ emit.           187646 non-null  object        \n",
            " 1   Emitente             187646 non-null  object        \n",
            " 2   No.                  187646 non-null  int64         \n",
            " 3   Data Emissão         187646 non-null  datetime64[ns]\n",
            " 4   Valor NF             187646 non-null  float64       \n",
            " 5   Data Registro        187646 non-null  datetime64[ns]\n",
            " 6   Créditos             187646 non-null  float64       \n",
            " 7   Situação do Crédito  187646 non-null  category      \n",
            " 8   Ano                  187646 non-null  int64         \n",
            " 9   Semestre             187646 non-null  int64         \n",
            " 10  Retorno              186666 non-null  float64       \n",
            " 11  flag_credito         187646 non-null  int64         \n",
            " 12  categoria            187646 non-null  object        \n",
            "dtypes: category(1), datetime64[ns](2), float64(3), int64(4), object(3)\n",
            "memory usage: 17.4+ MB\n"
          ]
        }
      ]
    },
    {
      "cell_type": "code",
      "source": [
        "# Variáveis Temporais\n",
        "df['dia_semana'] = df['Data Emissão'].dt.dayofweek\n",
        "df['fim_de_semana'] = df['dia_semana'].isin([5, 6]).astype(int)\n",
        "df['dia_mes'] = df['Data Emissão'].dt.day\n",
        "df['trimestre'] = df['Data Emissão'].dt.quarter"
      ],
      "metadata": {
        "id": "c2bszOvTiSvb"
      },
      "execution_count": 5,
      "outputs": []
    },
    {
      "cell_type": "code",
      "source": [
        "# Categorizações do Valor NF\n",
        "for n in [5, 10, 20, 50]:\n",
        "    df[f'valor_nf_cat_{n}'] = pd.qcut(df['Valor NF'], q=n, labels=False)\n",
        "\n",
        "# Exibir as primeiras linhas do DataFrame com as novas variáveis\n",
        "print(df[['Data Emissão', 'dia_semana', 'fim_de_semana', 'dia_mes', 'trimestre',\n",
        "          'Valor NF', 'valor_nf_cat_5', 'valor_nf_cat_10', 'valor_nf_cat_20', 'valor_nf_cat_50']].head())"
      ],
      "metadata": {
        "colab": {
          "base_uri": "https://localhost:8080/"
        },
        "id": "XbhfpPediV6b",
        "outputId": "8ecb0e38-9d69-4c63-ee22-92b714350a16"
      },
      "execution_count": 6,
      "outputs": [
        {
          "output_type": "stream",
          "name": "stdout",
          "text": [
            "  Data Emissão  dia_semana  fim_de_semana  dia_mes  trimestre  Valor NF  \\\n",
            "0   2017-06-30           4              0       30          2     24.68   \n",
            "1   2017-06-30           4              0       30          2     50.00   \n",
            "2   2017-06-30           4              0       30          2     27.00   \n",
            "3   2017-06-30           4              0       30          2    111.50   \n",
            "4   2017-06-30           4              0       30          2    125.00   \n",
            "\n",
            "   valor_nf_cat_5  valor_nf_cat_10  valor_nf_cat_20  valor_nf_cat_50  \n",
            "0               1                3                7               17  \n",
            "1               2                5               11               28  \n",
            "2               1                3                7               19  \n",
            "3               3                7               15               38  \n",
            "4               3                7               15               39  \n"
          ]
        }
      ]
    },
    {
      "cell_type": "code",
      "source": [
        "# Informações sobre as novas variáveis\n",
        "print(\"\\nInformações sobre as novas variáveis:\")\n",
        "for col in ['dia_semana', 'fim_de_semana', 'dia_mes', 'trimestre',\n",
        "            'valor_nf_cat_5', 'valor_nf_cat_10', 'valor_nf_cat_20', 'valor_nf_cat_50']:\n",
        "    print(f\"\\n{col}:\")\n",
        "    print(df[col].value_counts(normalize=True))"
      ],
      "metadata": {
        "colab": {
          "base_uri": "https://localhost:8080/"
        },
        "id": "Mu_oyFYniYWj",
        "outputId": "3b91e589-136a-42be-8870-cffd529909e2"
      },
      "execution_count": 7,
      "outputs": [
        {
          "output_type": "stream",
          "name": "stdout",
          "text": [
            "\n",
            "Informações sobre as novas variáveis:\n",
            "\n",
            "dia_semana:\n",
            "dia_semana\n",
            "2    0.151802\n",
            "4    0.151764\n",
            "3    0.150160\n",
            "1    0.147187\n",
            "5    0.143872\n",
            "0    0.137189\n",
            "6    0.118025\n",
            "Name: proportion, dtype: float64\n",
            "\n",
            "fim_de_semana:\n",
            "fim_de_semana\n",
            "0    0.738103\n",
            "1    0.261897\n",
            "Name: proportion, dtype: float64\n",
            "\n",
            "dia_mes:\n",
            "dia_mes\n",
            "8     0.046732\n",
            "10    0.046172\n",
            "9     0.046140\n",
            "12    0.040241\n",
            "11    0.038562\n",
            "13    0.036025\n",
            "14    0.035487\n",
            "5     0.034864\n",
            "16    0.034800\n",
            "4     0.033302\n",
            "3     0.033286\n",
            "17    0.032647\n",
            "15    0.032092\n",
            "2     0.031490\n",
            "18    0.031453\n",
            "23    0.030787\n",
            "19    0.030435\n",
            "21    0.030435\n",
            "20    0.030179\n",
            "22    0.030115\n",
            "6     0.029630\n",
            "7     0.029183\n",
            "28    0.028778\n",
            "24    0.028538\n",
            "26    0.028250\n",
            "27    0.027397\n",
            "1     0.027110\n",
            "29    0.026449\n",
            "25    0.025575\n",
            "30    0.024941\n",
            "31    0.018908\n",
            "Name: proportion, dtype: float64\n",
            "\n",
            "trimestre:\n",
            "trimestre\n",
            "3    0.272982\n",
            "4    0.271213\n",
            "2    0.229629\n",
            "1    0.226176\n",
            "Name: proportion, dtype: float64\n",
            "\n",
            "valor_nf_cat_5:\n",
            "valor_nf_cat_5\n",
            "2    0.200580\n",
            "0    0.200020\n",
            "4    0.199994\n",
            "1    0.199983\n",
            "3    0.199423\n",
            "Name: proportion, dtype: float64\n",
            "\n",
            "valor_nf_cat_10:\n",
            "valor_nf_cat_10\n",
            "0    0.100860\n",
            "5    0.100530\n",
            "2    0.100077\n",
            "4    0.100050\n",
            "9    0.100002\n",
            "8    0.099991\n",
            "3    0.099906\n",
            "7    0.099890\n",
            "6    0.099533\n",
            "1    0.099160\n",
            "Name: proportion, dtype: float64\n",
            "\n",
            "valor_nf_cat_20:\n",
            "valor_nf_cat_20\n",
            "4     0.050888\n",
            "1     0.050792\n",
            "11    0.050585\n",
            "6     0.050292\n",
            "13    0.050100\n",
            "8     0.050078\n",
            "0     0.050068\n",
            "19    0.050004\n",
            "15    0.050004\n",
            "16    0.049998\n",
            "18    0.049998\n",
            "17    0.049993\n",
            "9     0.049972\n",
            "10    0.049945\n",
            "14    0.049886\n",
            "3     0.049753\n",
            "7     0.049615\n",
            "12    0.049434\n",
            "2     0.049407\n",
            "5     0.049188\n",
            "Name: proportion, dtype: float64\n",
            "\n",
            "valor_nf_cat_50:\n",
            "valor_nf_cat_50\n",
            "1     0.021429\n",
            "3     0.021413\n",
            "6     0.020677\n",
            "29    0.020549\n",
            "10    0.020512\n",
            "18    0.020501\n",
            "27    0.020283\n",
            "20    0.020224\n",
            "35    0.020192\n",
            "12    0.020150\n",
            "26    0.020144\n",
            "15    0.020134\n",
            "34    0.020118\n",
            "8     0.020059\n",
            "31    0.020038\n",
            "24    0.020027\n",
            "17    0.020027\n",
            "38    0.020022\n",
            "46    0.020006\n",
            "37    0.020006\n",
            "45    0.020000\n",
            "44    0.020000\n",
            "0     0.020000\n",
            "40    0.020000\n",
            "48    0.020000\n",
            "41    0.020000\n",
            "49    0.020000\n",
            "43    0.019995\n",
            "47    0.019995\n",
            "33    0.019995\n",
            "42    0.019995\n",
            "39    0.019979\n",
            "14    0.019974\n",
            "22    0.019968\n",
            "32    0.019968\n",
            "25    0.019947\n",
            "9     0.019947\n",
            "23    0.019931\n",
            "13    0.019899\n",
            "21    0.019899\n",
            "16    0.019782\n",
            "36    0.019691\n",
            "28    0.019606\n",
            "11    0.019542\n",
            "19    0.019462\n",
            "30    0.019414\n",
            "5     0.019302\n",
            "7     0.019174\n",
            "2     0.019148\n",
            "4     0.018871\n",
            "Name: proportion, dtype: float64\n"
          ]
        }
      ]
    },
    {
      "cell_type": "code",
      "source": [
        "# Estatísticas descritivas do Valor NF por categoria (usando a categorização em 5 grupos)\n",
        "print(\"\\nEstatísticas descritivas do Valor NF por categoria (5 grupos):\")\n",
        "print(df.groupby('valor_nf_cat_5')['Valor NF'].describe())"
      ],
      "metadata": {
        "colab": {
          "base_uri": "https://localhost:8080/"
        },
        "id": "0lcIbefVibhk",
        "outputId": "da88e8fe-be15-474a-b806-77d8980e8b3f"
      },
      "execution_count": 8,
      "outputs": [
        {
          "output_type": "stream",
          "name": "stdout",
          "text": [
            "\n",
            "Estatísticas descritivas do Valor NF por categoria (5 grupos):\n",
            "                  count        mean          std     min      25%      50%  \\\n",
            "valor_nf_cat_5                                                               \n",
            "0               37533.0    7.313045     3.535562    0.00    4.690    7.500   \n",
            "1               37526.0   20.669635     4.371457   13.37   16.900   20.290   \n",
            "2               37638.0   39.788712     7.647047   28.62   32.910   38.900   \n",
            "3               37421.0   85.691087    21.588691   55.01   66.700   81.890   \n",
            "4               37528.0  509.215751  3592.036211  131.37  176.765  257.855   \n",
            "\n",
            "                   75%        max  \n",
            "valor_nf_cat_5                     \n",
            "0                10.20      13.36  \n",
            "1                24.50      28.61  \n",
            "2                46.13      55.00  \n",
            "3               101.58     131.36  \n",
            "4               441.32  562500.00  \n"
          ]
        }
      ]
    },
    {
      "cell_type": "code",
      "source": [
        "# Criar variáveis temporais e categorizações\n",
        "df['dia_semana'] = df['Data Emissão'].dt.dayofweek\n",
        "df['fim_de_semana'] = df['dia_semana'].isin([5, 6]).astype(int)\n",
        "df['dia_mes'] = df['Data Emissão'].dt.day\n",
        "df['trimestre'] = df['Data Emissão'].dt.quarter\n",
        "\n",
        "for n in [5, 10, 20, 50]:\n",
        "    df[f'valor_nf_cat_{n}'] = pd.qcut(df['Valor NF'], q=n, labels=False)"
      ],
      "metadata": {
        "id": "9vn0kECFjutG"
      },
      "execution_count": 9,
      "outputs": []
    },
    {
      "cell_type": "code",
      "source": [
        "# Definir metadados\n",
        "metadados = {\n",
        "    'dia_semana': {'tipo': 'categorica', 'descricao': 'Dia da semana (0-6)'},\n",
        "    'fim_de_semana': {'tipo': 'binaria', 'descricao': 'Indicador de fim de semana'},\n",
        "    'dia_mes': {'tipo': 'numerica', 'descricao': 'Dia do mês'},\n",
        "    'mes': {'tipo': 'categorica', 'descricao': 'Mês do ano'},\n",
        "    'trimestre': {'tipo': 'categorica', 'descricao': 'Trimestre do ano'},\n",
        "    'ano': {'tipo': 'categorica', 'descricao': 'Ano'},\n",
        "    'Valor NF': {'tipo': 'numerica', 'descricao': 'Valor da nota fiscal'},\n",
        "    'valor_nf_cat_5': {'tipo': 'categorica', 'descricao': 'Categorização do Valor NF em 5 grupos'},\n",
        "    'valor_nf_cat_10': {'tipo': 'categorica', 'descricao': 'Categorização do Valor NF em 10 grupos'},\n",
        "    'valor_nf_cat_20': {'tipo': 'categorica', 'descricao': 'Categorização do Valor NF em 20 grupos'},\n",
        "    'valor_nf_cat_50': {'tipo': 'categorica', 'descricao': 'Categorização do Valor NF em 50 grupos'}\n",
        "}"
      ],
      "metadata": {
        "id": "ybOJ5hLSj9Tf"
      },
      "execution_count": 10,
      "outputs": []
    },
    {
      "cell_type": "code",
      "source": [
        "# Criar categorizações do Valor NF\n",
        "for n in [5, 10, 20, 50]:\n",
        "    df[f'valor_nf_cat_{n}'] = pd.qcut(df['Valor NF'], q=n, labels=False, duplicates='drop')"
      ],
      "metadata": {
        "id": "XuN8TXmskLwZ"
      },
      "execution_count": 11,
      "outputs": []
    },
    {
      "cell_type": "code",
      "source": [
        "# Função para calcular WOE e IV\n",
        "def calculate_iv(df, feature, target):\n",
        "    df_woe = pd.DataFrame({'feature_value': df[feature].value_counts().index,\n",
        "                           'good': df[df[target] > 0][feature].value_counts(),\n",
        "                           'bad': df[df[target] <= 0][feature].value_counts()})\n",
        "    df_woe['good'] = df_woe['good'].fillna(0)\n",
        "    df_woe['bad'] = df_woe['bad'].fillna(0)\n",
        "    df_woe['good_rate'] = df_woe['good'] / df_woe['good'].sum()\n",
        "    df_woe['bad_rate'] = df_woe['bad'] / df_woe['bad'].sum()\n",
        "    df_woe['woe'] = np.log(df_woe['good_rate'] / df_woe['bad_rate'])\n",
        "    df_woe['iv'] = (df_woe['good_rate'] - df_woe['bad_rate']) * df_woe['woe']\n",
        "    return df_woe['iv'].sum()\n"
      ],
      "metadata": {
        "id": "g76zP_Udkbte"
      },
      "execution_count": 12,
      "outputs": []
    },
    {
      "cell_type": "code",
      "source": [
        "# Calcular IV para todas as variáveis\n",
        "variables = ['dia_semana', 'fim_de_semana', 'dia_mes', 'trimestre',\n",
        "             'valor_nf_cat_5', 'valor_nf_cat_10', 'valor_nf_cat_20', 'valor_nf_cat_50']\n",
        "\n",
        "iv_results = {}\n",
        "for var in variables:\n",
        "    iv_results[var] = calculate_iv(df, var, 'Retorno')"
      ],
      "metadata": {
        "id": "VSRUk-VmkfA1"
      },
      "execution_count": 13,
      "outputs": []
    },
    {
      "cell_type": "code",
      "source": [
        "df.info()"
      ],
      "metadata": {
        "colab": {
          "base_uri": "https://localhost:8080/"
        },
        "id": "fDuvu6yEl0IA",
        "outputId": "235e4f8b-3aa5-48c9-aedb-81759c5cbef8"
      },
      "execution_count": 14,
      "outputs": [
        {
          "output_type": "stream",
          "name": "stdout",
          "text": [
            "<class 'pandas.core.frame.DataFrame'>\n",
            "RangeIndex: 187646 entries, 0 to 187645\n",
            "Data columns (total 21 columns):\n",
            " #   Column               Non-Null Count   Dtype         \n",
            "---  ------               --------------   -----         \n",
            " 0   CNPJ emit.           187646 non-null  object        \n",
            " 1   Emitente             187646 non-null  object        \n",
            " 2   No.                  187646 non-null  int64         \n",
            " 3   Data Emissão         187646 non-null  datetime64[ns]\n",
            " 4   Valor NF             187646 non-null  float64       \n",
            " 5   Data Registro        187646 non-null  datetime64[ns]\n",
            " 6   Créditos             187646 non-null  float64       \n",
            " 7   Situação do Crédito  187646 non-null  category      \n",
            " 8   Ano                  187646 non-null  int64         \n",
            " 9   Semestre             187646 non-null  int64         \n",
            " 10  Retorno              186666 non-null  float64       \n",
            " 11  flag_credito         187646 non-null  int64         \n",
            " 12  categoria            187646 non-null  object        \n",
            " 13  dia_semana           187646 non-null  int32         \n",
            " 14  fim_de_semana        187646 non-null  int64         \n",
            " 15  dia_mes              187646 non-null  int32         \n",
            " 16  trimestre            187646 non-null  int32         \n",
            " 17  valor_nf_cat_5       187646 non-null  int64         \n",
            " 18  valor_nf_cat_10      187646 non-null  int64         \n",
            " 19  valor_nf_cat_20      187646 non-null  int64         \n",
            " 20  valor_nf_cat_50      187646 non-null  int64         \n",
            "dtypes: category(1), datetime64[ns](2), float64(3), int32(3), int64(9), object(3)\n",
            "memory usage: 26.7+ MB\n"
          ]
        }
      ]
    },
    {
      "cell_type": "code",
      "source": [
        "print(len(df))  # Verifica o comprimento dos dados\n",
        "print(len(df.index))  # Verifica o comprimento do índice"
      ],
      "metadata": {
        "colab": {
          "base_uri": "https://localhost:8080/"
        },
        "id": "biz0lcgCKyQ4",
        "outputId": "fa3eb84c-161e-4024-996b-109066349a98"
      },
      "execution_count": 15,
      "outputs": [
        {
          "output_type": "stream",
          "name": "stdout",
          "text": [
            "187646\n",
            "187646\n"
          ]
        }
      ]
    },
    {
      "cell_type": "code",
      "source": [
        "df = df.reset_index(drop=True)  # Isso redefine o índice, eliminando a discrepância"
      ],
      "metadata": {
        "id": "LGVWHYyIK191"
      },
      "execution_count": 16,
      "outputs": []
    },
    {
      "cell_type": "code",
      "source": [
        "# Função para calcular WOE e IV\n",
        "def calculate_iv(df, feature, target):\n",
        "    df_woe = pd.DataFrame({\n",
        "        'feature_value': df[feature].value_counts().index,\n",
        "        'good': df[df[target] > 0][feature].value_counts().reindex(df[feature].value_counts().index).fillna(0),\n",
        "        'bad': df[df[target] <= 0][feature].value_counts().reindex(df[feature].value_counts().index).fillna(0)\n",
        "    })"
      ],
      "metadata": {
        "id": "BEPdj3ooLIfT"
      },
      "execution_count": 17,
      "outputs": []
    },
    {
      "cell_type": "code",
      "source": [
        "# Adicionar IV para 'Valor NF' contínuo\n",
        "iv_results['Valor NF'] = calculate_iv(df, 'Valor NF', 'Retorno')"
      ],
      "metadata": {
        "id": "lam0ZLfTKX65"
      },
      "execution_count": 18,
      "outputs": []
    },
    {
      "cell_type": "code",
      "source": [
        "# Ordenar resultados por IV\n",
        "iv_df = pd.DataFrame.from_dict(iv_results, orient='index', columns=['IV']).sort_values('IV', ascending=False)\n",
        "\n",
        "print(\"Information Value (IV) para cada variável:\")\n",
        "print(iv_df)"
      ],
      "metadata": {
        "id": "e7y1dJ6fksEv",
        "colab": {
          "base_uri": "https://localhost:8080/"
        },
        "outputId": "a6803de4-7765-4abd-befa-1a17a3118108"
      },
      "execution_count": 19,
      "outputs": [
        {
          "output_type": "stream",
          "name": "stdout",
          "text": [
            "Information Value (IV) para cada variável:\n",
            "                       IV\n",
            "valor_nf_cat_50  0.129804\n",
            "valor_nf_cat_20  0.108793\n",
            "valor_nf_cat_10  0.095203\n",
            "valor_nf_cat_5   0.051704\n",
            "dia_mes          0.043254\n",
            "trimestre        0.011754\n",
            "dia_semana       0.007253\n",
            "fim_de_semana    0.004704\n",
            "Valor NF              NaN\n"
          ]
        }
      ]
    },
    {
      "cell_type": "code",
      "source": [
        "# Plotar IV para categorizações do Valor NF\n",
        "\n",
        "categories = [5, 10, 20, 50]\n",
        "iv_values = [iv_results[f'valor_nf_cat_{n}'] for n in categories]\n",
        "\n",
        "plt.figure(figsize=(10, 6))\n",
        "plt.plot(categories, iv_values, marker='o')\n",
        "plt.title('IV vs Número de Categorias para Valor NF')\n",
        "plt.xlabel('Número de Categorias')\n",
        "plt.ylabel('Information Value (IV)')\n",
        "plt.grid(True)\n",
        "plt.show()"
      ],
      "metadata": {
        "id": "v_P7oVP4oBaZ",
        "colab": {
          "base_uri": "https://localhost:8080/",
          "height": 565
        },
        "outputId": "226c2255-0a9f-4cca-c5c7-6341e2b8241b"
      },
      "execution_count": 20,
      "outputs": [
        {
          "output_type": "display_data",
          "data": {
            "text/plain": [
              "<Figure size 1000x600 with 1 Axes>"
            ],
            "image/png": "[encoded data removed]"
          },
          "metadata": {}
        }
      ]
    },
    {
      "cell_type": "code",
      "source": [
        "# Convertendo a coluna de data para o formato datetime\n",
        "df['Data Registro'] = pd.to_datetime(df['Data Registro'])"
      ],
      "metadata": {
        "id": "_VVqOm9sL50e"
      },
      "execution_count": 21,
      "outputs": []
    },
    {
      "cell_type": "code",
      "source": [
        "# Agrupando por mês e contando as notas registradas\n",
        "df['mes'] = df['Data Registro'].dt.to_period('M')  # Agrupamento por mês\n",
        "notas_por_mes = df.groupby('mes')['Valor NF'].count()"
      ],
      "metadata": {
        "id": "splicIomMAlV"
      },
      "execution_count": 22,
      "outputs": []
    },
    {
      "cell_type": "code",
      "source": [
        "# Plotando o gráfico de quantidade de notas por mês\n",
        "plt.figure(figsize=(10, 6))\n",
        "notas_por_mes.plot(kind='bar', color='skyblue')\n",
        "plt.title('Quantidade de Notas Registradas por Período (Mês)')\n",
        "plt.xlabel('Mês')\n",
        "plt.ylabel('Quantidade de Notas')\n",
        "plt.xticks(rotation=80)\n",
        "plt.grid(True)\n",
        "plt.show()"
      ],
      "metadata": {
        "colab": {
          "base_uri": "https://localhost:8080/",
          "height": 610
        },
        "id": "mYJzPckHMQ3d",
        "outputId": "4d54a954-5ec9-43b5-85df-76715f5f48c4"
      },
      "execution_count": 23,
      "outputs": [
        {
          "output_type": "display_data",
          "data": {
            "text/plain": [
              "<Figure size 1000x600 with 1 Axes>"
            ],
            "image/png": "[encoded data removed]"
          },
          "metadata": {}
        }
      ]
    },
    {
      "cell_type": "code",
      "source": [
        "# Agrupando por mês e categoria\n",
        "df['mes'] = df['Data Registro'].dt.to_period('M')  # Agrupamento por mês\n",
        "notas_por_categoria_mes = df.groupby(['mes', 'categoria'])['Valor NF'].count().reset_index()"
      ],
      "metadata": {
        "id": "CXwRV_4MM725"
      },
      "execution_count": 24,
      "outputs": []
    },
    {
      "cell_type": "code",
      "source": [
        "# Plotando o gráfico de quantidade de notas por categoria e mês\n",
        "plt.figure(figsize=(10, 6))\n",
        "sns.barplot(x='mes', y='Valor NF', hue='categoria', data=notas_por_categoria_mes, palette='Set2')\n",
        "plt.title('Quantidade de Notas por Categoria e Período (Mês)')\n",
        "plt.xlabel('Mês')\n",
        "plt.ylabel('Quantidade de Notas')\n",
        "plt.xticks(rotation=80)\n",
        "plt.grid(True)\n",
        "plt.legend(title='Categoria')\n",
        "plt.show()"
      ],
      "metadata": {
        "colab": {
          "base_uri": "https://localhost:8080/",
          "height": 610
        },
        "id": "rZCUBYHsNLOi",
        "outputId": "3759d9d3-2e62-464a-8210-fa1b987b8819"
      },
      "execution_count": 25,
      "outputs": [
        {
          "output_type": "display_data",
          "data": {
            "text/plain": [
              "<Figure size 1000x600 with 1 Axes>"
            ],
            "image/png": "[encoded data removed]"
          },
          "metadata": {}
        }
      ]
    }
  ]
}