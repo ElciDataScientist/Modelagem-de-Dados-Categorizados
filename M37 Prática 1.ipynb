{
  "nbformat": 4,
  "nbformat_minor": 0,
  "metadata": {
    "colab": {
      "provenance": []
    },
    "kernelspec": {
      "name": "python3",
      "display_name": "Python 3"
    },
    "language_info": {
      "name": "python"
    }
  },
  "cells": [
    {
      "cell_type": "markdown",
      "source": [
        "# **1**"
      ],
      "metadata": {
        "id": "n3PiGa6ysGpU"
      }
    },
    {
      "cell_type": "markdown",
      "source": [
        "# 1. Behaviour Score (Pontuação de Comportamento):\n",
        "- **Foco: Avalia o comportamento atual e recente do cliente com a instituição financeira.**\n",
        "- **Dados utilizados: Baseia-se principalmente em informações internas da instituição sobre o cliente.**\n",
        "- **Período de análise: Geralmente considera um histórico mais recente (últimos meses ou ano).**\n",
        "- **Objetivo: Prever o comportamento futuro do cliente com a instituição específica.**\n",
        "- **Aplicações: Gestão de limites de crédito, ofertas de produtos, estratégias de retenção.**\n",
        "# 2. Credit Score (Pontuação de Crédito):\n",
        "- **Foco: Avalia a probabilidade geral de um indivíduo pagar suas dívidas.**\n",
        "- **Dados utilizados: Baseia-se em informações de crédito de várias fontes, incluindo bureaus de crédito.**\n",
        "- **Período de análise: Considera um histórico mais longo (geralmente vários anos).**\n",
        "- **Objetivo: Prever o risco de inadimplência geral do indivíduo.**\n",
        "- **Aplicações: Aprovação de novos créditos, determinação de taxas de juros.**\n",
        "\n",
        "# Em resumo, o behaviour score é mais específico para uma instituição e focado no comportamento recente do cliente, enquanto o credit score é mais abrangente e baseado no histórico de crédito geral do indivíduo ao longo do tempo."
      ],
      "metadata": {
        "id": "5EPbsVnHpLxh"
      }
    },
    {
      "cell_type": "markdown",
      "source": [
        "# **2**"
      ],
      "metadata": {
        "id": "GhIO5yZAsKRE"
      }
    },
    {
      "cell_type": "markdown",
      "source": [
        "# 1. Ciclo anual completo:\n",
        "- **12 meses capturam um ciclo anual completo, incluindo todas as variações sazonais que podem afetar o comportamento financeiro.**\n",
        "- **Isso é especialmente importante em setores influenciados por sazonalidade, como varejo ou agricultura.**\n",
        "# 2. Estabilidade estatística:\n",
        "- **Um período de 12 meses geralmente fornece um volume de dados suficiente para obter estimativas estatisticamente robustas.**\n",
        "- **Ajuda a reduzir o impacto de flutuações de curto prazo ou eventos anômalos.**\n",
        "# 3. Relevância das informações:\n",
        "- **Dados muito antigos podem não refletir a realidade atual do mercado ou o comportamento dos clientes.**\n",
        "- **12 meses oferecem um equilíbrio entre ter dados suficientes e manter a relevância das informações.**\n",
        "# 4. Alinhamento com ciclos de negócios:\n",
        "- **Muitas empresas operam em ciclos anuais para orçamentos, metas e relatórios.**\n",
        "- **Usar 12 meses alinha o modelo com esses ciclos de negócios.**\n",
        "# 5. Captura de comportamentos de longo prazo:\n",
        "- **Alguns comportamentos financeiros, como padrões de pagamento de empréstimos, podem levar meses para se manifestar completamente.**\n",
        "- **12 meses permitem capturar esses padrões de longo prazo.**\n",
        "# 6. Práticas regulatórias e da indústria:\n",
        "- **Muitas regulamentações e práticas da indústria financeira são baseadas em períodos anuais.**\n",
        "- **Usar 12 meses facilita a conformidade e a comparabilidade com padrões da indústria.**\n",
        "# 7. Balanceamento entre atualidade e estabilidade:\n",
        "- **12 safras oferecem um equilíbrio entre ter dados atualizados e ter uma série temporal longa o suficiente para análise de tendências.**\n",
        "# 8. Facilidade de interpretação:\n",
        "- **Períodos de 12 meses são intuitivos e fáceis de entender para stakeholders não técnicos.**\n",
        "# 9. Comparabilidade ano a ano:\n",
        "- **Facilita comparações diretas entre diferentes anos, útil para análise de tendências de longo prazo.**\n",
        "# 10. Adequação para diferentes tipos de crédito:\n",
        "- **12 meses geralmente são suficientes para capturar o ciclo de vida de vários produtos de crédito, desde cartões de crédito até empréstimos pessoais.**\n",
        "# 11. Recursos computacionais:\n",
        "- **Um período de 12 meses oferece um bom equilíbrio entre ter dados suficientes e manter o processamento computacional gerenciável.**\n",
        "# 12. Flexibilidade:\n",
        "- **12 meses podem ser facilmente subdivididos em períodos menores (trimestres, semestres) para análises mais granulares quando necessário.**\n",
        "\n",
        "# Embora 12 meses e 12 safras sejam comuns, é importante notar que a escolha ideal pode variar dependendo do contexto específico do negócio, do produto financeiro em questão e dos objetivos do modelo. Em alguns casos, períodos mais curtos ou mais longos podem ser mais apropriados."
      ],
      "metadata": {
        "id": "g51ZHxu4qEXH"
      }
    },
    {
      "cell_type": "markdown",
      "source": [
        "# **3**"
      ],
      "metadata": {
        "id": "Vmz16fSJsDbJ"
      }
    },
    {
      "cell_type": "markdown",
      "source": [
        "# **Principais diferenças:**\n",
        "\n",
        "# 1. Temporalidade:\n",
        "- **OOT: Foca em dados de um período futuro em relação ao treinamento.**\n",
        "- **OOS: Usa dados do mesmo período do treinamento, mas não utilizados no processo de modelagem.**\n",
        "# 2. Objetivo do teste:\n",
        "- **OOT: Testa a estabilidade do modelo ao longo do tempo e sua capacidade de lidar com mudanças nas condições.**\n",
        "- **OOS: Testa a capacidade de generalização do modelo dentro do mesmo contexto temporal.**\n",
        "# 3. Detecção de problemas:\n",
        "- **OOT: Pode identificar concept drift (mudanças nas relações entre variáveis ao longo do tempo).**\n",
        "- **OOS: Ajuda a identificar overfitting (modelo se ajusta demais aos dados de treinamento).**\n",
        "# 4. Aplicação:\n",
        "- **OOT: Particularmente importante em modelos que serão usados para previsões futuras.**\n",
        "- **OOS: Fundamental em qualquer processo de modelagem para validar a generalização.**\n",
        "\n",
        "# O processo robusto de validação de modelos deve incluir tanto testes OOS quanto OOT. Isso fornece uma visão mais completa do desempenho do modelo, tanto em termos de sua capacidade de generalização imediata quanto de sua estabilidade ao longo do tempo."
      ],
      "metadata": {
        "id": "XypZiqsYsOjR"
      }
    },
    {
      "cell_type": "markdown",
      "source": [
        "# **4**"
      ],
      "metadata": {
        "id": "Ot9vvE0YtKPl"
      }
    },
    {
      "cell_type": "markdown",
      "source": [
        "# 1. Investigação:\n",
        "- **Primeiro, investigue a fundo a natureza e a extensão da corrupção dos dados.**\n",
        "- **Tente entender a causa raiz do problema: foi um erro de sistema, um problema de coleta de dados, uma mudança na definição da variável, etc?**\n",
        "# 2. Avaliação do impacto:\n",
        "- **Determine o quanto essas duas safras representam do conjunto total de dados.**\n",
        "- **Avalie se a corrupção afeta apenas a variável resposta ou se pode ter impactado outras variáveis relacionadas.**\n",
        "# 3. Decisão sobre as safras corrompidas:\n",
        "- **Se possível, tente corrigir os dados corrompidos usando informações históricas ou outras fontes confiáveis.**\n",
        "- **Se a correção não for possível ou confiável, considere remover completamente essas duas safras do conjunto de desenvolvimento.**\n",
        "# 4. Ajuste do período de desenvolvimento:\n",
        "- **Se você decidir remover as safras corrompidas, considere estender o período de desenvolvimento para incluir safras adicionais, mantendo assim um volume adequado de dados.**\n",
        "# 5. Análise de viés:\n",
        "- **Verifique se a remoção dessas safras introduz algum viés sazonal ou temporal no modelo.**\n",
        "- **Se houver viés, considere técnicas de ponderação ou estratificação para compensar.**\n",
        "# 6. Documentação:\n",
        "- **Documente detalhadamente o problema encontrado, as decisões tomadas e as justificativas para essas decisões.**\n",
        "- **Isso é crucial para transparência e para futuras referências ou auditorias.**\n",
        "# 7. Validação adicional:\n",
        "- **Implemente validações cruzadas mais rigorosas para garantir que o modelo não esteja sendo afetado pela ausência dessas safras.**\n",
        "- **Considere usar técnicas de validação out-of-time mais extensivas para compensar a perda de informação temporal.**\n",
        "# 8. Testes de sensibilidade:\n",
        "- **Realize testes de sensibilidade para entender como a remoção dessas safras afeta o desempenho e a estabilidade do modelo.**\n",
        "# 9. Comunicação:\n",
        "- **Informe todas as partes interessadas sobre o problema e as ações tomadas.**\n",
        "- **Seja transparente sobre as possíveis implicações para o modelo e seus resultados.**\n",
        "# 10. Monitoramento futuro:\n",
        "- **Implemente controles adicionais para detectar problemas semelhantes no futuro.**\n",
        "- **Considere criar alertas automáticos para identificar anomalias nos dados de entrada.**\n",
        "# 11. Revisão do processo:\n",
        "- **Use esta experiência para revisar e melhorar os processos de coleta e validação de dados.**\n",
        "# 12. Consideração de abordagens alternativas:\n",
        "- **Dependendo da gravidade do problema, você pode considerar abordagens de modelagem que são menos sensíveis a dados ausentes ou corrompidos, como modelos ensemble ou técnicas de imputação avançadas.**\n",
        "# 13. Avaliação do impacto regulatório:\n",
        "- **Se o modelo for usado em um contexto regulado, avalie se há implicações regulatórias devido à remoção de dados e esteja preparado para justificar suas decisões aos reguladores.**\n",
        "\n",
        "\n",
        "# A chave é abordar o problema de forma transparente e metodológica, garantindo que a integridade do modelo não seja comprometida e que todas as decisões sejam bem fundamentadas e documentadas."
      ],
      "metadata": {
        "id": "HCbOyaOGtMjT"
      }
    }
  ]
}